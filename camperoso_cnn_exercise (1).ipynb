{
 "cells": [
  {
   "cell_type": "code",
   "execution_count": 1,
   "metadata": {
    "id": "-hBsyvXhyXj_"
   },
   "outputs": [],
   "source": [
    "import tensorflow as tf\n",
    "import keras\n",
    "import numpy as np\n",
    "import cv2\n",
    "import os\n",
    "import matplotlib.pyplot as plt\n",
    "\n",
    "from keras.layers import *\n",
    "from keras.models import Sequential\n",
    "from keras.preprocessing import image"
   ]
  },
  {
   "cell_type": "code",
   "execution_count": 3,
   "metadata": {
    "colab": {
     "base_uri": "https://localhost:8080/"
    },
    "id": "amA_9w3AzMMR",
    "outputId": "1ecce7f6-f95f-4ab6-c126-cd4e31e1d30b"
   },
   "outputs": [
    {
     "name": "stdout",
     "output_type": "stream",
     "text": [
      "Found 249 images belonging to 3 classes.\n"
     ]
    }
   ],
   "source": [
    "from keras.preprocessing.image import ImageDataGenerator\n",
    "train = ImageDataGenerator(rescale = 1./255, shear_range = 0.2, zoom_range = 0.2, horizontal_flip = True)\n",
    "\n",
    "train_path = (r'C:\\Users\\MARK JOSEPH\\CNN\\Covid19-dataset\\train')\n",
    "train_dataset = train.flow_from_directory(train_path, target_size = (224, 224), batch_size = 32, class_mode = 'categorical')"
   ]
  },
  {
   "cell_type": "code",
   "execution_count": 4,
   "metadata": {
    "colab": {
     "base_uri": "https://localhost:8080/"
    },
    "id": "oiRb7unk4ZJl",
    "outputId": "e62e9d95-d29e-4b9b-ecaa-5824648bd989"
   },
   "outputs": [
    {
     "name": "stdout",
     "output_type": "stream",
     "text": [
      "Found 65 images belonging to 3 classes.\n"
     ]
    }
   ],
   "source": [
    "test = ImageDataGenerator(rescale=1./255)\n",
    "test_path = (r'C:\\Users\\MARK JOSEPH\\CNN\\Covid19-dataset\\test')\n",
    "test_dataset = train.flow_from_directory(test_path,target_size = (224, 224), batch_size = 32, class_mode = 'categorical')"
   ]
  },
  {
   "cell_type": "code",
   "execution_count": 5,
   "metadata": {
    "id": "dVQP21swKyFj"
   },
   "outputs": [],
   "source": [
    "from keras.backend import categorical_crossentropy\n",
    "model = Sequential()\n",
    "\n",
    "#Conv. Layer 1\n",
    "model.add(Conv2D(32,\n",
    "                 kernel_size=(3,3), #Standard\n",
    "                 activation='relu',\n",
    "                 input_shape=(224,224,3)))\n",
    "\n",
    "#Conv. Layer 2\n",
    "model.add(Conv2D(64, (3,3), activation='relu'))\n",
    "model.add(MaxPooling2D(pool_size=(2,2)))\n",
    "model.add(Dropout(0.25))\n",
    "\n",
    "#Conv. Layer 3\n",
    "model.add(Conv2D(64, (3,3), activation='relu'))\n",
    "model.add(MaxPooling2D(pool_size=(2,2)))\n",
    "model.add(Dropout(0.25))\n",
    "\n",
    "\n",
    "#Conv. Layer 4\n",
    "model.add(Conv2D(128, (3,3), activation='relu'))\n",
    "model.add(MaxPooling2D(pool_size=(2,2)))\n",
    "model.add(Dropout(0.25))\n",
    "\n",
    "#Conv. Layer 5\n",
    "model.add(Flatten())\n",
    "model.add(Dense(64, activation='relu'))\n",
    "model.add(Dropout(0.5))\n",
    "model.add(Dense(3, activation='sigmoid'))\n",
    "\n",
    "model.compile(loss='categorical_crossentropy', optimizer='adam', metrics=['accuracy'])"
   ]
  },
  {
   "cell_type": "code",
   "execution_count": 6,
   "metadata": {
    "colab": {
     "base_uri": "https://localhost:8080/"
    },
    "id": "dNYVecWHeVgr",
    "outputId": "06402dfd-294b-4438-a010-fcf70673a4a2"
   },
   "outputs": [
    {
     "name": "stdout",
     "output_type": "stream",
     "text": [
      "Model: \"sequential\"\n",
      "_________________________________________________________________\n",
      " Layer (type)                Output Shape              Param #   \n",
      "=================================================================\n",
      " conv2d (Conv2D)             (None, 222, 222, 32)      896       \n",
      "                                                                 \n",
      " conv2d_1 (Conv2D)           (None, 220, 220, 64)      18496     \n",
      "                                                                 \n",
      " max_pooling2d (MaxPooling2D  (None, 110, 110, 64)     0         \n",
      " )                                                               \n",
      "                                                                 \n",
      " dropout (Dropout)           (None, 110, 110, 64)      0         \n",
      "                                                                 \n",
      " conv2d_2 (Conv2D)           (None, 108, 108, 64)      36928     \n",
      "                                                                 \n",
      " max_pooling2d_1 (MaxPooling  (None, 54, 54, 64)       0         \n",
      " 2D)                                                             \n",
      "                                                                 \n",
      " dropout_1 (Dropout)         (None, 54, 54, 64)        0         \n",
      "                                                                 \n",
      " conv2d_3 (Conv2D)           (None, 52, 52, 128)       73856     \n",
      "                                                                 \n",
      " max_pooling2d_2 (MaxPooling  (None, 26, 26, 128)      0         \n",
      " 2D)                                                             \n",
      "                                                                 \n",
      " dropout_2 (Dropout)         (None, 26, 26, 128)       0         \n",
      "                                                                 \n",
      " flatten (Flatten)           (None, 86528)             0         \n",
      "                                                                 \n",
      " dense (Dense)               (None, 64)                5537856   \n",
      "                                                                 \n",
      " dropout_3 (Dropout)         (None, 64)                0         \n",
      "                                                                 \n",
      " dense_1 (Dense)             (None, 3)                 195       \n",
      "                                                                 \n",
      "=================================================================\n",
      "Total params: 5,668,227\n",
      "Trainable params: 5,668,227\n",
      "Non-trainable params: 0\n",
      "_________________________________________________________________\n"
     ]
    }
   ],
   "source": [
    "model.summary()"
   ]
  },
  {
   "cell_type": "code",
   "execution_count": 7,
   "metadata": {
    "colab": {
     "base_uri": "https://localhost:8080/"
    },
    "id": "yWNhXuxceb_a",
    "outputId": "86b2dc17-f38d-4fcf-d6f7-f6c9e0664580"
   },
   "outputs": [
    {
     "name": "stderr",
     "output_type": "stream",
     "text": [
      "D:\\Anaconda_MAIN\\envs\\tf\\lib\\site-packages\\ipykernel_launcher.py:1: UserWarning: `Model.fit_generator` is deprecated and will be removed in a future version. Please use `Model.fit`, which supports generators.\n",
      "  \"\"\"Entry point for launching an IPython kernel.\n"
     ]
    },
    {
     "name": "stdout",
     "output_type": "stream",
     "text": [
      "Epoch 1/20\n",
      "7/7 [==============================] - 37s 5s/step - loss: 1.2535 - accuracy: 0.4147 - val_loss: 1.0914 - val_accuracy: 0.3906\n",
      "Epoch 2/20\n",
      "7/7 [==============================] - 30s 4s/step - loss: 1.0090 - accuracy: 0.5069 - val_loss: 0.9756 - val_accuracy: 0.5000\n",
      "Epoch 3/20\n",
      "7/7 [==============================] - 29s 4s/step - loss: 0.8572 - accuracy: 0.6083 - val_loss: 0.8176 - val_accuracy: 0.6406\n",
      "Epoch 4/20\n",
      "7/7 [==============================] - 30s 4s/step - loss: 0.6186 - accuracy: 0.7419 - val_loss: 0.5607 - val_accuracy: 0.7344\n",
      "Epoch 5/20\n",
      "7/7 [==============================] - 32s 4s/step - loss: 0.5063 - accuracy: 0.7788 - val_loss: 0.6326 - val_accuracy: 0.7188\n",
      "Epoch 6/20\n",
      "7/7 [==============================] - 29s 4s/step - loss: 0.5223 - accuracy: 0.8111 - val_loss: 0.7309 - val_accuracy: 0.6250\n",
      "Epoch 7/20\n",
      "7/7 [==============================] - 29s 4s/step - loss: 0.5069 - accuracy: 0.7696 - val_loss: 0.5127 - val_accuracy: 0.7812\n",
      "Epoch 8/20\n",
      "7/7 [==============================] - 28s 4s/step - loss: 0.5003 - accuracy: 0.8249 - val_loss: 0.5883 - val_accuracy: 0.6562\n",
      "Epoch 9/20\n",
      "7/7 [==============================] - 29s 4s/step - loss: 0.3960 - accuracy: 0.8249 - val_loss: 0.5736 - val_accuracy: 0.7188\n",
      "Epoch 10/20\n",
      "7/7 [==============================] - 28s 4s/step - loss: 0.5386 - accuracy: 0.7696 - val_loss: 0.5640 - val_accuracy: 0.7812\n",
      "Epoch 11/20\n",
      "7/7 [==============================] - 29s 4s/step - loss: 0.4679 - accuracy: 0.7812 - val_loss: 0.5151 - val_accuracy: 0.7188\n",
      "Epoch 12/20\n",
      "7/7 [==============================] - 29s 4s/step - loss: 0.4058 - accuracy: 0.8479 - val_loss: 0.6412 - val_accuracy: 0.7500\n",
      "Epoch 13/20\n",
      "7/7 [==============================] - 29s 4s/step - loss: 0.3610 - accuracy: 0.8525 - val_loss: 0.5197 - val_accuracy: 0.8125\n",
      "Epoch 14/20\n",
      "7/7 [==============================] - 29s 4s/step - loss: 0.3962 - accuracy: 0.8571 - val_loss: 0.4779 - val_accuracy: 0.7344\n",
      "Epoch 15/20\n",
      "7/7 [==============================] - 28s 4s/step - loss: 0.5265 - accuracy: 0.7788 - val_loss: 0.7157 - val_accuracy: 0.7969\n",
      "Epoch 16/20\n",
      "7/7 [==============================] - 29s 4s/step - loss: 0.5274 - accuracy: 0.7742 - val_loss: 0.5163 - val_accuracy: 0.8281\n",
      "Epoch 17/20\n",
      "7/7 [==============================] - 28s 4s/step - loss: 0.4258 - accuracy: 0.8157 - val_loss: 0.4511 - val_accuracy: 0.7969\n",
      "Epoch 18/20\n",
      "7/7 [==============================] - 29s 4s/step - loss: 0.3991 - accuracy: 0.8125 - val_loss: 0.5251 - val_accuracy: 0.7812\n",
      "Epoch 19/20\n",
      "7/7 [==============================] - 29s 4s/step - loss: 0.3157 - accuracy: 0.8571 - val_loss: 0.6514 - val_accuracy: 0.7500\n",
      "Epoch 20/20\n",
      "7/7 [==============================] - 29s 4s/step - loss: 0.4520 - accuracy: 0.8157 - val_loss: 0.5049 - val_accuracy: 0.7656\n"
     ]
    }
   ],
   "source": [
    "history = model.fit_generator(train_dataset, steps_per_epoch=7, epochs = 20, validation_data = test_dataset,validation_steps=2)"
   ]
  },
  {
   "cell_type": "code",
   "execution_count": 8,
   "metadata": {
    "colab": {
     "base_uri": "https://localhost:8080/"
    },
    "id": "gqevIJCM0J7e",
    "outputId": "9d574c6c-1694-4864-dabe-72807a749ac3"
   },
   "outputs": [
    {
     "name": "stdout",
     "output_type": "stream",
     "text": [
      "8/8 [==============================] - 13s 2s/step - loss: 0.2751 - accuracy: 0.8956\n",
      "Test score: 0.27509957551956177\n",
      "Test accuracy: 0.8955823183059692\n"
     ]
    }
   ],
   "source": [
    "result = model.evaluate(train_dataset)\n",
    "print('Test score:', result[0])\n",
    "print('Test accuracy:', result[1])"
   ]
  },
  {
   "cell_type": "code",
   "execution_count": 9,
   "metadata": {},
   "outputs": [],
   "source": [
    "\n",
    "path_dir = (r'C:/Users/MARK JOSEPH/CNN/Covid19-dataset/')\n",
    "def loadImages(path, folder):\n",
    "    data_files = sorted([os.path.join(path, folder, file)\n",
    "                        for file in os.listdir(path + folder + '/')\n",
    "                        if (file.endswith('.jpg') or file.endswith('.jpeg') or file.endswith('.png') or file.endswith('.webp'))])\n",
    "    return data_files\n",
    "\n",
    "validation_dataset = loadImages(path_dir, 'validation')"
   ]
  },
  {
   "cell_type": "code",
   "execution_count": 10,
   "metadata": {
    "id": "uc8QKdjoDMkK"
   },
   "outputs": [],
   "source": [
    "valid = validation_dataset\n",
    "output = []\n",
    "images = []\n",
    "\n",
    "for x in valid:\n",
    "    img = cv2.imread(x)\n",
    "    img = img[:, :, :3]\n",
    "    images.append(img)\n",
    "\n",
    "    width = 224\n",
    "    height = 224\n",
    "    dim = (width, height)\n",
    "\n",
    "    resized = cv2.resize(img, dim, interpolation=cv2.INTER_AREA)\n",
    "    output.append(resized)\n",
    "output = np.array(output)\n",
    "output = output/255"
   ]
  },
  {
   "cell_type": "code",
   "execution_count": 11,
   "metadata": {},
   "outputs": [
    {
     "name": "stdout",
     "output_type": "stream",
     "text": [
      "Found 65 images belonging to 3 classes.\n"
     ]
    }
   ],
   "source": [
    "test = ImageDataGenerator(rescale=1./255)\n",
    "test_path = (r'C:\\Users\\MARK JOSEPH\\CNN\\Covid19-dataset\\test')\n",
    "test_dataset = train.flow_from_directory(test_path, \n",
    "                                         target_size = (224, 224), \n",
    "                                         batch_size = 32, \n",
    "                                         class_mode = 'categorical')"
   ]
  },
  {
   "cell_type": "code",
   "execution_count": 12,
   "metadata": {
    "colab": {
     "base_uri": "https://localhost:8080/"
    },
    "id": "GUfl58h1Dj46",
    "outputId": "74859c6d-f261-4650-a685-21771e7c7b5a"
   },
   "outputs": [
    {
     "name": "stdout",
     "output_type": "stream",
     "text": [
      "1/1 [==============================] - 0s 285ms/step\n",
      "[1 1 0 2 2 2 0 0 2 0]\n"
     ]
    },
    {
     "data": {
      "text/plain": [
       "(10, 3)"
      ]
     },
     "execution_count": 12,
     "metadata": {},
     "output_type": "execute_result"
    }
   ],
   "source": [
    "y_pred = model.predict(output)\n",
    "predict = np.argmax(y_pred, axis=1)\n",
    "print(predict)\n",
    "y_pred.shape\n"
   ]
  },
  {
   "cell_type": "code",
   "execution_count": 13,
   "metadata": {},
   "outputs": [
    {
     "data": {
      "text/plain": [
       "<matplotlib.image.AxesImage at 0x23ae2a1fd88>"
      ]
     },
     "execution_count": 13,
     "metadata": {},
     "output_type": "execute_result"
    },
    {
     "data": {
      "image/png": "[encoded data removed]",
      "text/plain": [
       "<Figure size 640x480 with 1 Axes>"
      ]
     },
     "metadata": {},
     "output_type": "display_data"
    }
   ],
   "source": [
    "plt.figure()\n",
    "plt.imshow(y_pred.reshape(10,3), interpolation = 'none')"
   ]
  },
  {
   "cell_type": "code",
   "execution_count": null,
   "metadata": {
    "id": "U70YF6CVHHab"
   },
   "outputs": [],
   "source": []
  }
 ],
 "metadata": {
  "colab": {
   "collapsed_sections": [],
   "provenance": [],
   "toc_visible": true
  },
  "kernelspec": {
   "display_name": "Python 3 (ipykernel)",
   "language": "python",
   "name": "python3"
  },
  "language_info": {
   "codemirror_mode": {
    "name": "ipython",
    "version": 3
   },
   "file_extension": ".py",
   "mimetype": "text/x-python",
   "name": "python",
   "nbconvert_exporter": "python",
   "pygments_lexer": "ipython3",
   "version": "3.7.13"
  }
 },
 "nbformat": 4,
 "nbformat_minor": 1
}
